{
 "cells": [
  {
   "cell_type": "markdown",
   "id": "daca0e6e",
   "metadata": {},
   "source": [
    "# Import Libraries and JSON File"
   ]
  },
  {
   "cell_type": "code",
   "execution_count": 1,
   "id": "b32f32eb",
   "metadata": {},
   "outputs": [],
   "source": [
    "#standard imports\n",
    "import pandas as pd\n",
    "import numpy as np\n",
    "import os, json, math, time\n",
    "#data visual imports\n",
    "import matplotlib.pyplot as plt\n",
    "import seaborn as sns\n",
    "#statistics import\n",
    "import scipy.stats as stats\n",
    "from statsmodels.stats.multicomp import pairwise_tukeyhsd\n",
    "# sql libraries\n",
    "import pymysql\n",
    "pymysql.install_as_MySQLdb()\n",
    "from sqlalchemy import create_engine\n",
    "from sqlalchemy_utils import create_database, database_exists\n"
   ]
  },
  {
   "cell_type": "code",
   "execution_count": 7,
   "id": "68c94628",
   "metadata": {},
   "outputs": [],
   "source": [
    "#loading api credentials\n",
    "with open(r\"\\Users\\camer\\.secret\\timdb_api.json\", \"r\") as f:\n",
    "    login = json.load(f)\n",
    "    \n",
    "#importing TMDB api\n",
    "import tmdbsimple as tmdb\n",
    "tmdb.API_KEY = login['api-key']\n"
   ]
  },
  {
   "cell_type": "markdown",
   "id": "f1567436",
   "metadata": {},
   "source": [
    "# API Call for Movie Year"
   ]
  },
  {
   "cell_type": "code",
   "execution_count": 13,
   "id": "37b062ce",
   "metadata": {},
   "outputs": [
    {
     "data": {
      "text/plain": [
       "{'adult': False,\n",
       " 'backdrop_path': '/p47ihFj4A7EpBjmPHdTj4ipyq1S.jpg',\n",
       " 'belongs_to_collection': None,\n",
       " 'budget': 1752000,\n",
       " 'genres': [{'id': 18, 'name': 'Drama'}],\n",
       " 'homepage': '',\n",
       " 'id': 599,\n",
       " 'imdb_id': 'tt0043014',\n",
       " 'original_language': 'en',\n",
       " 'original_title': 'Sunset Boulevard',\n",
       " 'overview': 'A hack screenwriter writes a screenplay for a former silent film star who has faded into Hollywood obscurity.',\n",
       " 'popularity': 14.491,\n",
       " 'poster_path': '/sC4Dpmn87oz9AuxZ15Lmip0Ftgr.jpg',\n",
       " 'production_companies': [{'id': 4,\n",
       "   'logo_path': '/gz66EfNoYPqHTYI4q9UEN4CbHRc.png',\n",
       "   'name': 'Paramount',\n",
       "   'origin_country': 'US'}],\n",
       " 'production_countries': [{'iso_3166_1': 'US',\n",
       "   'name': 'United States of America'}],\n",
       " 'release_date': '1950-08-10',\n",
       " 'revenue': 5000000,\n",
       " 'runtime': 110,\n",
       " 'spoken_languages': [{'english_name': 'English',\n",
       "   'iso_639_1': 'en',\n",
       "   'name': 'English'}],\n",
       " 'status': 'Released',\n",
       " 'tagline': 'A Hollywood Story.',\n",
       " 'title': 'Sunset Boulevard',\n",
       " 'video': False,\n",
       " 'vote_average': 8.378,\n",
       " 'vote_count': 2094}"
      ]
     },
     "execution_count": 13,
     "metadata": {},
     "output_type": "execute_result"
    }
   ],
   "source": [
    "#test search to ensure success\n",
    "tmdb.Movies(599).info()\n"
   ]
  },
  {
   "cell_type": "code",
   "execution_count": 8,
   "id": "fc9a19ce",
   "metadata": {},
   "outputs": [],
   "source": [
    "#defining path to save in progress calls\n",
    "JSON_FILE = 'Data/results_in_progress_movie_year'\n",
    "file_exists = os.path.isfile(JSON_FILE)\n"
   ]
  },
  {
   "cell_type": "code",
   "execution_count": 9,
   "id": "881093d3",
   "metadata": {},
   "outputs": [
    {
     "name": "stdout",
     "output_type": "stream",
     "text": [
      "[i] Data/results_in_progress_movie_year not found, Saving empty list to file\n"
     ]
    }
   ],
   "source": [
    "#creating if/else statement for file saving \n",
    "if file_exists == False: \n",
    "    Data = os.path.dirname(JSON_FILE)\n",
    "    if len(Data)>0:\n",
    "        os.makedirs(Data, exist_ok=True)\n",
    "    print(f'[i] {JSON_FILE} not found, Saving empty list to file')\n",
    "    with open(JSON_FILE, 'w') as f:\n",
    "        json.dump([], f)\n",
    "else: print(f'[i] {JSON_FILE} already exists')\n",
    "\n"
   ]
  },
  {
   "cell_type": "code",
   "execution_count": 10,
   "id": "f2942ba0",
   "metadata": {},
   "outputs": [
    {
     "name": "stdout",
     "output_type": "stream",
     "text": [
      "- 0 previous results found\n"
     ]
    }
   ],
   "source": [
    "#loading previous results for offset amount\n",
    "with open(JSON_FILE, 'r') as f:\n",
    "    previous_results = json.load(f)\n",
    "\n",
    "n_results = len(previous_results)\n",
    "print(f'- {n_results} previous results found')\n"
   ]
  },
  {
   "cell_type": "code",
   "execution_count": null,
   "id": "3ade689a",
   "metadata": {},
   "outputs": [],
   "source": []
  }
 ],
 "metadata": {
  "kernelspec": {
   "display_name": "Python (dojo-env)",
   "language": "python",
   "name": "dojo-env"
  },
  "language_info": {
   "codemirror_mode": {
    "name": "ipython",
    "version": 3
   },
   "file_extension": ".py",
   "mimetype": "text/x-python",
   "name": "python",
   "nbconvert_exporter": "python",
   "pygments_lexer": "ipython3",
   "version": "3.8.13"
  },
  "toc": {
   "base_numbering": 1,
   "nav_menu": {},
   "number_sections": true,
   "sideBar": true,
   "skip_h1_title": false,
   "title_cell": "Table of Contents",
   "title_sidebar": "Contents",
   "toc_cell": false,
   "toc_position": {},
   "toc_section_display": true,
   "toc_window_display": false
  }
 },
 "nbformat": 4,
 "nbformat_minor": 5
}
