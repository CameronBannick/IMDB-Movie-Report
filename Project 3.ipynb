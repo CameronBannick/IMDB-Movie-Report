{
 "cells": [
  {
   "cell_type": "code",
   "execution_count": 1,
   "id": "df7ab561",
   "metadata": {},
   "outputs": [],
   "source": [
    "#import libraries\n",
    "import pandas as pd\n",
    "import numpy as np"
   ]
  },
  {
   "cell_type": "code",
   "execution_count": 2,
   "id": "732ccbfa",
   "metadata": {},
   "outputs": [],
   "source": [
    "#save links\n",
    "basics_url = 'https://datasets.imdbws.com/title.basics.tsv.gz'\n",
    "ratings_url = 'https://datasets.imdbws.com/title.ratings.tsv.gz'\n",
    "akas_url = 'https://datasets.imdbws.com/title.akas.tsv.gz'"
   ]
  },
  {
   "cell_type": "code",
   "execution_count": null,
   "id": "2f3fa71a",
   "metadata": {},
   "outputs": [],
   "source": [
    "#creating dataframes from links\n",
    "basics_df = pd.read_csv(basics_url, sep='\\t', low_memory=False)\n",
    "ratings_df = pd.read_csv(ratings_url, sep='\\t', low_memory=False)\n",
    "akas_df = pd.read_csv(akas_url, sep='\\t', low_memory=False)"
   ]
  },
  {
   "cell_type": "code",
   "execution_count": null,
   "id": "1da6564b",
   "metadata": {},
   "outputs": [],
   "source": [
    "#inspecting basics df\n",
    "basics_df.info()"
   ]
  },
  {
   "cell_type": "code",
   "execution_count": null,
   "id": "337670b8",
   "metadata": {},
   "outputs": [],
   "source": [
    "#replacing missing values with nan\n",
    "basics_df = basics_df.replace({'\\\\N':np.nan})\n",
    "basics_df.head()"
   ]
  },
  {
   "cell_type": "code",
   "execution_count": null,
   "id": "065e3476",
   "metadata": {},
   "outputs": [],
   "source": [
    "#elimating null values for genres and runtime\n",
    "basics_df = basics_df.dropna(subset=['genres', 'runtimeMinutes'])\n",
    "basics_df.isna().sum()"
   ]
  },
  {
   "cell_type": "code",
   "execution_count": null,
   "id": "0c8ebc7c",
   "metadata": {},
   "outputs": [],
   "source": [
    "#only movie types\n",
    "basics_df = basics_df.loc[basics_df['titleType'] == 'Movie']\n",
    "basics_df.head()"
   ]
  },
  {
   "cell_type": "code",
   "execution_count": null,
   "id": "29ef9f92",
   "metadata": {},
   "outputs": [],
   "source": []
  }
 ],
 "metadata": {
  "kernelspec": {
   "display_name": "Python (dojo-env)",
   "language": "python",
   "name": "dojo-env"
  },
  "language_info": {
   "codemirror_mode": {
    "name": "ipython",
    "version": 3
   },
   "file_extension": ".py",
   "mimetype": "text/x-python",
   "name": "python",
   "nbconvert_exporter": "python",
   "pygments_lexer": "ipython3",
   "version": "3.8.13"
  },
  "toc": {
   "base_numbering": 1,
   "nav_menu": {},
   "number_sections": true,
   "sideBar": true,
   "skip_h1_title": false,
   "title_cell": "Table of Contents",
   "title_sidebar": "Contents",
   "toc_cell": false,
   "toc_position": {},
   "toc_section_display": true,
   "toc_window_display": false
  }
 },
 "nbformat": 4,
 "nbformat_minor": 5
}
