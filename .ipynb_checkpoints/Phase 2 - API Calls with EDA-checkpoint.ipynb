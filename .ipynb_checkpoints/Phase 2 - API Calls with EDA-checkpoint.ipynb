{
 "cells": [
  {
   "cell_type": "markdown",
   "id": "3e6caa66",
   "metadata": {},
   "source": [
    "#  Importing TMDB API"
   ]
  },
  {
   "cell_type": "code",
   "execution_count": null,
   "id": "6a80f808",
   "metadata": {},
   "outputs": [],
   "source": [
    "#imports\n",
    "import pandas as pd\n",
    "import numpy as np\n",
    "import matplotlib.pyplot as plt\n",
    "import seaborn as sns\n",
    "import tmdbsimple as tmdb\n",
    "tmdb.API_KEY = login['api-key']\n",
    "import os, time\n",
    "import tmdbsimple as tmdb \n",
    "from tqdm.notebook import tqdm_notebook\n"
   ]
  },
  {
   "cell_type": "code",
   "execution_count": null,
   "id": "f12a81f2",
   "metadata": {},
   "outputs": [],
   "source": [
    "#importing json librarie\n",
    "import json\n",
    "with open(r\"\\Users\\camer\\.secret\\timdb_api.json\", \"r\") as f:\n",
    "    login = json.load(f)\n",
    "    \n",
    "login.keys()"
   ]
  },
  {
   "cell_type": "code",
   "execution_count": null,
   "id": "1ee0c34f",
   "metadata": {},
   "outputs": [],
   "source": [
    "#test search to ensure success\n",
    "tmdb.Movies(599).info()"
   ]
  },
  {
   "cell_type": "markdown",
   "id": "2f159305",
   "metadata": {},
   "source": [
    "# Creating and Defining Our Two Functions"
   ]
  },
  {
   "cell_type": "code",
   "execution_count": null,
   "id": "82a7fb45",
   "metadata": {},
   "outputs": [],
   "source": [
    "#define function for movie rating\n",
    "def get_movie_with_rating(movie_id):\n",
    "    movie = tmdb.Movies(movie_id)\n",
    "    info = movie.info()\n",
    "    releases = movie.releases()\n",
    "    for c in releases['countries']:\n",
    "        if c['iso_3166_1']=='US':\n",
    "            info['certification'] = c['certification']\n",
    "    return info"
   ]
  },
  {
   "cell_type": "code",
   "execution_count": null,
   "id": "b198854d",
   "metadata": {},
   "outputs": [],
   "source": [
    "#first test of function\n",
    "test1 = get_movie_with_rating('tt0848228')\n",
    "test1"
   ]
  },
  {
   "cell_type": "code",
   "execution_count": null,
   "id": "0b2eeed9",
   "metadata": {},
   "outputs": [],
   "source": [
    "#second test \n",
    "test2 = get_movie_with_rating('tt0332280')\n",
    "test2"
   ]
  },
  {
   "cell_type": "code",
   "execution_count": null,
   "id": "ca2840b5",
   "metadata": {},
   "outputs": [],
   "source": [
    "#creating path to save data\n",
    "FOLDER = \"Data/\"\n",
    "os.makedirs(FOLDER, exist_ok=True)\n",
    "os.listdir(FOLDER)"
   ]
  },
  {
   "cell_type": "code",
   "execution_count": null,
   "id": "b494a66a",
   "metadata": {},
   "outputs": [],
   "source": [
    "#define function to make json files\n",
    "def write_json(new_data, filename): \n",
    "  \n",
    "    with open(filename,'r+') as file:\n",
    "       \n",
    "        file_data = json.load(file)\n",
    "      \n",
    "        if (type(new_data) == list) & (type(file_data) == list):\n",
    "            file_data.extend(new_data)\n",
    "        else:\n",
    "             file_data.append(new_data)\n",
    "             file.seek(0)\n",
    "       \n",
    "             json.dump(file_data, file)"
   ]
  },
  {
   "cell_type": "code",
   "execution_count": null,
   "id": "c633a39c",
   "metadata": {},
   "outputs": [],
   "source": [
    "#adding info for years 2000 and 2001\n",
    "basics = pd.read_csv('Data/title_basics.csv.gz')\n",
    "YEARS_TO_GET = [2000,2001]\n",
    "errors = []\n",
    " "
   ]
  },
  {
   "cell_type": "code",
   "execution_count": null,
   "id": "b5d933a0",
   "metadata": {},
   "outputs": [],
   "source": [
    "#start with outer loop\n",
    "for YEAR in tqdm_notebook(YEARS_TO_GET, desc='YEARS', position=0):\n",
    "    JSON_FILE = f'{FOLDER}tmdb_api_results_{YEAR}.json'\n",
    "    file_exists = os.path.isfile(JSON_FILE)\n",
    "    if file_exists == False:\n",
    "        with open(JSON_FILE, 'w') as f:\n",
    "            json.dump([{'imdb_id':0}], f)\n",
    "    df = basics.loc[basics['startYear']==YEAR].copy()\n",
    "    movie_ids = df['tconst'].copy()\n",
    "    previous_df = pd.read_json(JSON_FILE)\n",
    "    movie_ids_to_get = movie_ids[~movie_ids.isin(previous_df['imdb_id'])]\n",
    "    #inner loop\n",
    "    for movie_id in tqdm_notebook(movie_ids_to_get,\n",
    "                                  desc = f'Movies from {YEAR}',\n",
    "                                  position = 1,\n",
    "                                  leave = True):\n",
    "        try: \n",
    "            temp = get_movie_with_rating(movie_id)\n",
    "            write_json(temp, JSON_FILE)\n",
    "            time.sleep(0.02)\n",
    "        except Exception as e:\n",
    "            errors.append([movie_id, e])\n",
    "    final_year_df = pd.read_json(JSON_FILE)\n",
    "    final_year_df.to_csv(f\"{FOLDER}final_tmdb_data_{YEAR}.csv.gz\", compression=\"gzip\", index=False)\n",
    "\n",
    "print(f'total error {len(errors)}')\n",
    "    \n",
    "                                \n",
    "                                          "
   ]
  },
  {
   "cell_type": "markdown",
   "id": "b40aea0a",
   "metadata": {},
   "source": [
    "# Exploratory Data Analysis"
   ]
  },
  {
   "cell_type": "code",
   "execution_count": null,
   "id": "91590d40",
   "metadata": {},
   "outputs": [],
   "source": [
    "#inspecting first df\n",
    "df= pd.read_csv('DATA/final_tmdb_data_2000.csv.gz')\n",
    "df.head()\n"
   ]
  },
  {
   "cell_type": "code",
   "execution_count": null,
   "id": "acd0eb40",
   "metadata": {},
   "outputs": [],
   "source": [
    "#inspecting second df\n",
    "df2= pd.read_csv('DATA/final_tmdb_data_2001.csv.gz')\n",
    "df2.head()"
   ]
  },
  {
   "cell_type": "code",
   "execution_count": null,
   "id": "294ae4d4",
   "metadata": {},
   "outputs": [],
   "source": [
    "#combining dataframes\n",
    "final_df = pd.concat((df, df2), ignore_index=True)\n",
    "display(final_df.head(),final_df.tail())"
   ]
  },
  {
   "cell_type": "code",
   "execution_count": null,
   "id": "561b30a4",
   "metadata": {},
   "outputs": [],
   "source": [
    "#inspecting new datafram\n",
    "final_df.info()"
   ]
  },
  {
   "cell_type": "code",
   "execution_count": null,
   "id": "14597612",
   "metadata": {},
   "outputs": [],
   "source": [
    "#saving copy of new df\n",
    "final_df.to_csv('Data/final_results_movie_00-01.csv.gz', compression='gzip',index=False)"
   ]
  },
  {
   "cell_type": "code",
   "execution_count": null,
   "id": "53b7d13b",
   "metadata": {},
   "outputs": [],
   "source": [
    "#only including movies with financial info more than 0\n",
    "final_df = final_df.loc[final_df['budget']>0]\n",
    "final_df = final_df.loc[final_df['revenue']>0] \n",
    "final_df.head()"
   ]
  },
  {
   "cell_type": "code",
   "execution_count": 1,
   "id": "f849b25c",
   "metadata": {},
   "outputs": [
    {
     "ename": "NameError",
     "evalue": "name 'final_df' is not defined",
     "output_type": "error",
     "traceback": [
      "\u001b[1;31m---------------------------------------------------------------------------\u001b[0m",
      "\u001b[1;31mNameError\u001b[0m                                 Traceback (most recent call last)",
      "Cell \u001b[1;32mIn [1], line 2\u001b[0m\n\u001b[0;32m      1\u001b[0m \u001b[38;5;66;03m#inspecting new data\u001b[39;00m\n\u001b[1;32m----> 2\u001b[0m \u001b[43mfinal_df\u001b[49m\u001b[38;5;241m.\u001b[39minfo()\n",
      "\u001b[1;31mNameError\u001b[0m: name 'final_df' is not defined"
     ]
    }
   ],
   "source": [
    "#inspecting new data\n",
    "final_df.info()"
   ]
  },
  {
   "cell_type": "markdown",
   "id": "0e2d2cb1",
   "metadata": {},
   "source": [
    "How many movies had at least some valid financial information (values > 0 for budget OR revenue)?\n",
    "\n",
    "     - Well it seems after filtering all the values of '0' for Revenue and Budget we are left with 390 movies"
   ]
  },
  {
   "cell_type": "markdown",
   "id": "007f3e0c",
   "metadata": {},
   "source": [
    "How many movies are there in each of the certification categories (G/PG/PG-13/R)?"
   ]
  },
  {
   "cell_type": "code",
   "execution_count": null,
   "id": "981c7e9f",
   "metadata": {},
   "outputs": [],
   "source": [
    "#inspecting value counts for certification\n",
    "final_df['certification'].value_counts()"
   ]
  },
  {
   "cell_type": "code",
   "execution_count": null,
   "id": "a82b520c",
   "metadata": {},
   "outputs": [],
   "source": [
    "#creating bar graph to display count of each certification\n",
    "#inspire from https://stackoverflow.com/questions/48939795/how-to-plot-a-count-bar-chart-with-a-pandas-df-grouping-by-one-categorical-colu\n",
    "ax = final_df['certification'].value_counts().plot(kind='bar',\n",
    "                                    figsize=(8,6),\n",
    "                                    title=\"Number of Movies by Rating\")\n",
    "ax.set_xlabel(\"Movie Rating\")\n",
    "ax.set_ylabel(\"Frequency\")\n",
    "plt.show()"
   ]
  },
  {
   "cell_type": "markdown",
   "id": "61b8db25",
   "metadata": {},
   "source": [
    "As seen above, most movies seems to be R and PG-13 while PG G and 'Not Rated' Movies are in the minority"
   ]
  },
  {
   "cell_type": "markdown",
   "id": "cf9bb2ec",
   "metadata": {},
   "source": [
    "What is the average revenue per certification category?"
   ]
  },
  {
   "cell_type": "code",
   "execution_count": null,
   "id": "27b8f708",
   "metadata": {},
   "outputs": [],
   "source": [
    "#creating variable using groupby\n",
    "certrev = final_df.groupby('certification')['revenue'].mean()\n",
    "certrev"
   ]
  },
  {
   "cell_type": "code",
   "execution_count": null,
   "id": "f66c4d07",
   "metadata": {},
   "outputs": [],
   "source": [
    "#creating graph for said variable\n",
    "plt.bar(certrev.index, certrev.values)\n",
    "plt.title('Avergage Revenue by Rating')\n",
    "plt.xlabel('Movie Rating')\n",
    "plt.ylabel('Revenue in Millions')\n",
    "plt.show()"
   ]
  },
  {
   "cell_type": "markdown",
   "id": "1d3ee1d9",
   "metadata": {},
   "source": [
    "While they make more R and PG-13 movies, G and PG make the most money possibly due to the higher audience pool"
   ]
  },
  {
   "cell_type": "markdown",
   "id": "32cf0daa",
   "metadata": {},
   "source": [
    "What is the average budget per certification category?"
   ]
  },
  {
   "cell_type": "code",
   "execution_count": null,
   "id": "edc8c3bc",
   "metadata": {},
   "outputs": [],
   "source": [
    "#creating variable using groupby\n",
    "certbudg = final_df.groupby('certification')['budget'].mean()\n",
    "certbudg"
   ]
  },
  {
   "cell_type": "code",
   "execution_count": null,
   "id": "fc592948",
   "metadata": {},
   "outputs": [],
   "source": [
    "#creatinf final graph\n",
    "plt.bar(certbudg.index, certbudg.values)\n",
    "plt.title('Avergage  by Budget')\n",
    "plt.xlabel('Movie Rating')\n",
    "plt.ylabel('Budget in Millions')\n",
    "plt.show()"
   ]
  },
  {
   "cell_type": "markdown",
   "id": "9afbd00d",
   "metadata": {},
   "source": [
    "It seems the movie rating that gets made the least, has the most budget. But, more money goes to PG-13 Movies than G."
   ]
  }
 ],
 "metadata": {
  "kernelspec": {
   "display_name": "Python (dojo-env)",
   "language": "python",
   "name": "dojo-env"
  },
  "language_info": {
   "codemirror_mode": {
    "name": "ipython",
    "version": 3
   },
   "file_extension": ".py",
   "mimetype": "text/x-python",
   "name": "python",
   "nbconvert_exporter": "python",
   "pygments_lexer": "ipython3",
   "version": "3.8.13"
  },
  "toc": {
   "base_numbering": 1,
   "nav_menu": {},
   "number_sections": true,
   "sideBar": true,
   "skip_h1_title": false,
   "title_cell": "Table of Contents",
   "title_sidebar": "Contents",
   "toc_cell": false,
   "toc_position": {},
   "toc_section_display": true,
   "toc_window_display": false
  }
 },
 "nbformat": 4,
 "nbformat_minor": 5
}
